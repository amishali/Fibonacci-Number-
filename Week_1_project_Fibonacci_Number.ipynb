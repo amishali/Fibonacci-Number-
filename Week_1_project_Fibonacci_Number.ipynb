{
  "nbformat": 4,
  "nbformat_minor": 0,
  "metadata": {
    "colab": {
      "name": "Week 1 project Fibonacci Number.ipynb",
      "provenance": [],
      "collapsed_sections": [],
      "toc_visible": true,
      "authorship_tag": "ABX9TyOToGpHkHQyxbsz7s5BYTvy",
      "include_colab_link": true
    },
    "kernelspec": {
      "name": "python3",
      "display_name": "Python 3"
    },
    "language_info": {
      "name": "python"
    }
  },
  "cells": [
    {
      "cell_type": "markdown",
      "metadata": {
        "id": "view-in-github",
        "colab_type": "text"
      },
      "source": [
        "<a href=\"https://colab.research.google.com/github/amishali/Fibonacci-Number-/blob/main/Week_1_project_Fibonacci_Number.ipynb\" target=\"_parent\"><img src=\"https://colab.research.google.com/assets/colab-badge.svg\" alt=\"Open In Colab\"/></a>"
      ]
    },
    {
      "cell_type": "markdown",
      "source": [
        "Create a python function that when you inputs a number the function you have \n",
        "created checks whether the number belongs to the Fibonacci sequence or not."
      ],
      "metadata": {
        "id": "YWA7M-SdDCE7"
      }
    },
    {
      "cell_type": "code",
      "source": [
        "import math\n",
        "\n",
        "n = int(input(\"Enter an integer number:\"))\n",
        "\n",
        "#the formula to check if a number is fibonacci is \n",
        "    #fn = fn-1 + fn-2\n",
        "# if the result of this formula is a perfect square then the number will be a Fibonacci number.\n",
        "\n",
        "#let define a fn for a perfect square \n",
        "\n",
        "def check_perfect_square(m):\n",
        "\n",
        "    n = int(math.sqrt(m))\n",
        "\n",
        "    return n*n == m\n",
        "\n",
        "   \n",
        "\n",
        "def fibonacci(m):\n",
        "  #check if its a perfect square \n",
        "     if check_perfect_square(5*m*m + 4) or check_perfect_square(5*m*m - 4):\n",
        "        return True\n",
        "     else:\n",
        "        return False\n",
        "\n",
        " \n",
        "if fibonacci(n):\n",
        "\n",
        "    print( n,\" is Fibonacci number\")\n",
        "\n",
        "else:\n",
        "\n",
        "    print( n,\" is not Fibnacci number\")\n"
      ],
      "metadata": {
        "id": "AOF6mv1at_7-"
      },
      "execution_count": null,
      "outputs": []
    }
  ]
}